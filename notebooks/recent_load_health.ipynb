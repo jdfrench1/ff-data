{
  "cells": [
    {
      "cell_type": "markdown",
      "metadata": {},
      "source": [
        "# Recent Load Health\n",
        "Use this notebook to spot-check the most recent loads after running the ETL jobs.\n",
        "Set `DATABASE_URL` before starting the kernel so results reflect your target database.\n"
      ]
    },
    {
      "cell_type": "code",
      "execution_count": null,
      "metadata": {},
      "outputs": [],
      "source": [
        "import os\n",
        "from datetime import datetime\n",
        "\n",
        "import pandas as pd\n",
        "from sqlalchemy import create_engine\n",
        "\n",
        "database_url = os.environ.get(\"DATABASE_URL\", \"sqlite:///nfldb.db\")\n",
        "engine = create_engine(database_url)\n",
        "\n",
        "query = \"\"\"\n",
        "SELECT s.year AS season,\n",
        "       w.week_number AS week,\n",
        "       COUNT(g.game_id) AS total_games,\n",
        "       SUM(CASE WHEN g.home_points IS NOT NULL AND g.away_points IS NOT NULL THEN 1 ELSE 0 END) AS completed_games,\n",
        "       MAX(g.kickoff_ts) AS last_kickoff\n",
        "FROM seasons s\n",
        "JOIN weeks w ON w.season_id = s.season_id\n",
        "LEFT JOIN games g ON g.week_id = w.week_id\n",
        "GROUP BY s.year, w.week_number\n",
        "ORDER BY s.year DESC, w.week_number DESC\n",
        "\"\"\"\n",
        "df = pd.read_sql(query, engine)\n",
        "df.head()\n"
      ]
    },
    {
      "cell_type": "code",
      "execution_count": null,
      "metadata": {},
      "outputs": [],
      "source": [
        "if not df.empty:\n",
        "    pivot = df.pivot(index=\"week\", columns=\"season\", values=\"completed_games\")\n",
        "    pivot.plot(kind=\"bar\", figsize=(10, 4), title=\"Completed Games by Week\")\n"
      ]
    }
  ],
  "metadata": {
    "kernelspec": {
      "display_name": "Python 3",
      "language": "python",
      "name": "python3"
    },
    "language_info": {
      "name": "python",
      "version": "3.10"
    }
  },
  "nbformat": 4,
  "nbformat_minor": 5
}