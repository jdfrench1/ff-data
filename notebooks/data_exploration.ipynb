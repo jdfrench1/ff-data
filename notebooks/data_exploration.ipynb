{
 "cells": [
  {
   "cell_type": "markdown",
   "metadata": {
    "id": "introduction"
   },
   "source": [
    "# Postgres Data Exploration\n",
    "Use the helper functions below to inspect tables in the project database.\n"
   ]
  },
  {
   "cell_type": "markdown",
   "metadata": {
    "id": "setup-notes"
   },
   "source": [
    "**Setup**\n",
    "- Ensure `.env` contains a valid `DATABASE_URL` pointing at Postgres.\n",
    "- Update `table_to_preview` or the custom SQL cells to target the tables you want to inspect.\n"
   ]
  },
  {
   "cell_type": "code",
   "execution_count": null,
   "metadata": {
    "id": "imports-and-engine"
   },
   "outputs": [],
   "source": [
    "from __future__ import annotations\n",
    "\n",
    "import os\n",
    "from pathlib import Path\n",
    "from typing import Any\n",
    "\n",
    "import pandas as pd\n",
    "from dotenv import load_dotenv\n",
    "from sqlalchemy import MetaData, Table, create_engine, select, text\n",
    "from sqlalchemy.engine import Engine\n",
    "\n",
    "PROJECT_ROOT = Path(\"..\").resolve()\n",
    "load_dotenv(PROJECT_ROOT / \".env\")\n",
    "\n",
    "DATABASE_URL = os.environ[\"DATABASE_URL\"]\n",
    "engine: Engine = create_engine(DATABASE_URL, future=True)\n",
    "metadata = MetaData()\n",
    "\n",
    "print(f\"Engine ready for {engine.url.render_as_string(hide_password=True)}\")\n"
   ]
  },
  {
   "cell_type": "code",
   "execution_count": null,
   "metadata": {
    "id": "helpers"
   },
   "outputs": [],
   "source": [
    "def run_query(sql: str, params: dict[str, Any] | None = None) -> pd.DataFrame:\n",
    "    \"\"\"Execute a raw SQL query and return a DataFrame.\"\"\"\n",
    "    query = text(sql)\n",
    "    with engine.connect() as connection:\n",
    "        return pd.read_sql(query, connection, params=params)\n",
    "\n",
    "\n",
    "def preview_table(table_identifier: str, limit: int = 10) -> pd.DataFrame:\n",
    "    \"\"\"Load a table by name (optionally schema-qualified) for a quick look.\"\"\"\n",
    "    schema: str | None = None\n",
    "    table_name = table_identifier\n",
    "    if \".\" in table_identifier:\n",
    "        schema, table_name = table_identifier.split(\".\", 1)\n",
    "\n",
    "    table_obj = Table(table_name, metadata, autoload_with=engine, schema=schema)\n",
    "    statement = select(table_obj).limit(limit)\n",
    "    with engine.connect() as connection:\n",
    "        return pd.read_sql(statement, connection)\n"
   ]
  },
  {
   "cell_type": "code",
   "execution_count": null,
   "metadata": {
    "id": "pandas-display"
   },
   "outputs": [],
   "source": [
    "pd.options.display.max_rows = 20\n",
    "pd.options.display.max_columns = None\n",
    "pd.options.display.width = 0\n"
   ]
  },
  {
   "cell_type": "code",
   "execution_count": null,
   "metadata": {
    "id": "table-inventory"
   },
   "outputs": [],
   "source": [
    "tables = run_query(\n",
    "    \"\"\"\n",
    "    SELECT table_schema, table_name\n",
    "    FROM information_schema.tables\n",
    "    WHERE table_type = 'BASE TABLE'\n",
    "      AND table_schema NOT IN ('pg_catalog', 'information_schema')\n",
    "    ORDER BY table_schema, table_name\n",
    "    \"\"\"\n",
    ")\n",
    "tables\n"
   ]
  },
  {
   "cell_type": "code",
   "execution_count": null,
   "metadata": {
    "id": "preview-sample"
   },
   "outputs": [],
   "source": [
    "# Replace with the table you want to preview, e.g. \"public.players\" or \"public.games\"\n",
    "table_to_preview = \"public.players\"\n",
    "preview_table(table_to_preview, limit=25)\n"
   ]
  },
  {
   "cell_type": "code",
   "execution_count": null,
   "metadata": {
    "id": "custom-query"
   },
   "outputs": [],
   "source": [
    "# Customize the SQL below for deeper exploration.\n",
    "custom_sql = \"\"\"\n",
    "-- Example: row counts per table\n",
    "SELECT table_schema,\n",
    "       table_name,\n",
    "       pg_total_relation_size(format('%s.%s', table_schema, table_name)) AS bytes\n",
    "FROM information_schema.tables\n",
    "WHERE table_type = 'BASE TABLE'\n",
    "  AND table_schema NOT IN ('pg_catalog', 'information_schema')\n",
    "ORDER BY bytes DESC\n",
    "LIMIT 20\n",
    "\"\"\"\n",
    "\n",
    "run_query(custom_sql)\n"
   ]
  }
 ],
 "metadata": {
  "kernelspec": {
   "display_name": "Python 3",
   "language": "python",
   "name": "python3"
  },
  "language_info": {
   "codemirror_mode": {
    "name": "ipython",
    "version": 3
   },
   "file_extension": ".py",
   "mimetype": "text/x-python",
   "name": "python",
   "nbconvert_exporter": "python",
   "pygments_lexer": "ipython3",
   "version": "3.11"
  }
 },
 "nbformat": 4,
 "nbformat_minor": 5
}
