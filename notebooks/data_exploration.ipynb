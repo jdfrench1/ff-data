{
 "cells": [
  {
   "cell_type": "markdown",
   "metadata": {
    "id": "introduction"
   },
   "source": [
    "# Postgres Data Exploration\n",
    "Use the helper functions below to inspect tables in the project database.\n"
   ]
  },
  {
   "cell_type": "markdown",
   "metadata": {
    "id": "setup-notes"
   },
   "source": [
    "**Setup**\n",
    "- Ensure `.env` contains a valid `DATABASE_URL` pointing at Postgres.\n",
    "- Update `table_to_preview` or the custom SQL cells to target the tables you want to inspect.\n"
   ]
  },
  {
   "cell_type": "code",
   "execution_count": null,
   "metadata": {
    "id": "imports-and-engine"
   },
   "outputs": [],
   "source": [
    "from __future__ import annotations\n",
    "\n",
    "import os\n",
    "from pathlib import Path\n",
    "from typing import Any\n",
    "\n",
    "import pandas as pd\n",
    "from dotenv import load_dotenv\n",
    "from sqlalchemy import MetaData, Table, create_engine, select, text\n",
    "from sqlalchemy.engine import Engine\n",
    "\n",
    "PROJECT_ROOT = Path(\"..\").resolve()\n",
    "load_dotenv(PROJECT_ROOT / \".env\")\n",
    "\n",
    "DATABASE_URL = os.environ[\"DATABASE_URL\"]\n",
    "engine: Engine = create_engine(DATABASE_URL, future=True)\n",
    "metadata = MetaData()\n",
    "\n",
    "print(f\"Engine ready for {engine.url.render_as_string(hide_password=True)}\")\n"
   ]
  },
  {
   "cell_type": "code",
   "execution_count": null,
   "metadata": {
    "id": "helpers"
   },
   "outputs": [],
   "source": [
    "def run_query(sql: str, params: dict[str, Any] | None = None) -> pd.DataFrame:\n",
    "    \"\"\"Execute a raw SQL query and return a DataFrame.\"\"\"\n",
    "    query = text(sql)\n",
    "    with engine.connect() as connection:\n",
    "        return pd.read_sql(query, connection, params=params)\n",
    "\n",
    "\n",
    "def preview_table(table_identifier: str, limit: int = 10) -> pd.DataFrame:\n",
    "    \"\"\"Load a table by name (optionally schema-qualified) for a quick look.\"\"\"\n",
    "    schema: str | None = None\n",
    "    table_name = table_identifier\n",
    "    if \".\" in table_identifier:\n",
    "        schema, table_name = table_identifier.split(\".\", 1)\n",
    "\n",
    "    table_obj = Table(table_name, metadata, autoload_with=engine, schema=schema)\n",
    "    statement = select(table_obj).limit(limit)\n",
    "    with engine.connect() as connection:\n",
    "        return pd.read_sql(statement, connection)\n"
   ]
  },
  {
   "cell_type": "code",
   "execution_count": null,
   "metadata": {
    "id": "pandas-display"
   },
   "outputs": [],
   "source": [
    "pd.options.display.max_rows = 20\n",
    "pd.options.display.max_columns = None\n",
    "pd.options.display.width = 0\n"
   ]
  },
  {
   "cell_type": "code",
   "execution_count": null,
   "metadata": {
    "id": "table-inventory"
   },
   "outputs": [],
   "source": [
    "tables = run_query(\n",
    "    \"\"\"\n",
    "    SELECT table_schema, table_name\n",
    "    FROM information_schema.tables\n",
    "    WHERE table_type = 'BASE TABLE'\n",
    "      AND table_schema NOT IN ('pg_catalog', 'information_schema')\n",
    "    ORDER BY table_schema, table_name\n",
    "    \"\"\"\n",
    ")\n",
    "tables\n"
   ]
  },
  {
   "cell_type": "code",
   "execution_count": null,
   "metadata": {
    "id": "preview-sample"
   },
   "outputs": [],
   "source": [
    "# Replace with the table you want to preview, e.g. \"public.players\" or \"public.games\"\n",
    "table_to_preview = \"public.players\"\n",
    "preview_table(table_to_preview, limit=25)\n"
   ]
  },
  {
   "cell_type": "code",
   "execution_count": null,
   "metadata": {
    "id": "custom-query"
   },
   "outputs": [],
   "source": [
    "# Customize the SQL below for deeper exploration.\n",
    "custom_sql = \"\"\"\n",
    "-- Example: row counts per table\n",
    "SELECT table_schema,\n",
    "       table_name,\n",
    "       pg_total_relation_size(format('%s.%s', table_schema, table_name)) AS bytes\n",
    "FROM information_schema.tables\n",
    "WHERE table_type = 'BASE TABLE'\n",
    "  AND table_schema NOT IN ('pg_catalog', 'information_schema')\n",
    "ORDER BY bytes DESC\n",
    "LIMIT 20\n",
    "\"\"\"\n",
    "\n",
    "run_query(custom_sql)\n"
   ]
  },
  {
   "cell_type": "markdown",
   "metadata": {
    "id": "qb-metrics-intro"
   },
   "source": [
    "## Quarterback Metrics Table\n",
    "Aggregate weekly quarterback stats into season-level metrics including average depth of target (ADOT) and rushing usage per game.\n"
   ]
  },
  {
   "cell_type": "code",
   "execution_count": null,
   "metadata": {
    "id": "qb-metrics-loader"
   },
   "outputs": [],
   "source": [
    "QB_METRICS_SQL = \"\"\"\n",
    "SELECT\n",
    "    player_id,\n",
    "    player_display_name,\n",
    "    season,\n",
    "    team,\n",
    "    COUNT(*) AS games_played,\n",
    "    SUM(attempts) AS pass_attempts,\n",
    "    SUM(completions) AS completions,\n",
    "    SUM(passing_air_yards) AS passing_air_yards,\n",
    "    SUM(passing_yards) AS passing_yards,\n",
    "    SUM(carries) AS rush_attempts,\n",
    "    SUM(rushing_yards) AS rushing_yards,\n",
    "    SUM(rushing_tds) AS rushing_tds\n",
    "FROM public.nfl_weekly_stats\n",
    "WHERE position = 'QB'\n",
    "  AND season BETWEEN :season_start AND :season_end\n",
    "  AND season_type = :season_type\n",
    "GROUP BY player_id, player_display_name, season, team\n",
    "HAVING SUM(attempts) >= :min_attempts\n",
    "   AND COUNT(*) >= :min_games\n",
    "ORDER BY season DESC, SUM(attempts) DESC\n",
    "\"\"\"\n",
    "\n",
    "def load_qb_metrics(\n",
    "    *,\n",
    "    season_start: int,\n",
    "    season_end: int,\n",
    "    min_attempts: int = 150,\n",
    "    min_games: int = 6,\n",
    "    season_type: str = \"REG\",\n",
    ") -> pd.DataFrame:\n",
    "    \"\"\"Return aggregated quarterback metrics for the requested seasons.\"\"\"\n",
    "    params = {\n",
    "        \"season_start\": season_start,\n",
    "        \"season_end\": season_end,\n",
    "        \"min_attempts\": min_attempts,\n",
    "        \"min_games\": min_games,\n",
    "        \"season_type\": season_type,\n",
    "    }\n",
    "    frame = run_query(QB_METRICS_SQL, params=params)\n",
    "    if frame.empty:\n",
    "        return frame\n",
    "\n",
    "    metrics = frame.copy()\n",
    "    metrics[\"adot\"] = metrics[\"passing_air_yards\"].div(\n",
    "        metrics[\"pass_attempts\"].replace({0: pd.NA})\n",
    "    )\n",
    "    metrics[\"ypa\"] = metrics[\"passing_yards\"].div(\n",
    "        metrics[\"pass_attempts\"].replace({0: pd.NA})\n",
    "    )\n",
    "    safe_games = metrics[\"games_played\"].replace({0: pd.NA})\n",
    "    metrics[\"pass_attempts_per_game\"] = metrics[\"pass_attempts\"].div(safe_games)\n",
    "    metrics[\"rush_att_per_game\"] = metrics[\"rush_attempts\"].div(safe_games)\n",
    "    metrics[\"rush_yds_per_game\"] = metrics[\"rushing_yards\"].div(safe_games)\n",
    "\n",
    "    metric_columns = [\n",
    "        \"adot\",\n",
    "        \"ypa\",\n",
    "        \"pass_attempts_per_game\",\n",
    "        \"rush_att_per_game\",\n",
    "        \"rush_yds_per_game\",\n",
    "    ]\n",
    "    metrics[metric_columns] = metrics[metric_columns].apply(\n",
    "        pd.to_numeric, errors=\"coerce\"\n",
    "    )\n",
    "    return metrics\n"
   ]
  },
  {
   "cell_type": "code",
   "execution_count": null,
   "metadata": {
    "id": "qb-metrics-preview"
   },
   "outputs": [],
   "source": [
    "qb_query_options = {\n",
    "    \"season_start\": 2022,\n",
    "    \"season_end\": 2024,\n",
    "    \"min_attempts\": 150,\n",
    "    \"min_games\": 6,\n",
    "    \"season_type\": \"REG\",\n",
    "}\n",
    "\n",
    "qb_metrics = load_qb_metrics(**qb_query_options)\n",
    "\n",
    "if qb_metrics.empty:\n",
    "    print(\"No quarterback rows found for the selected filters.\")\n",
    "else:\n",
    "    display_columns = [\n",
    "        \"player_display_name\",\n",
    "        \"season\",\n",
    "        \"team\",\n",
    "        \"games_played\",\n",
    "        \"pass_attempts\",\n",
    "        \"pass_attempts_per_game\",\n",
    "        \"passing_air_yards\",\n",
    "        \"adot\",\n",
    "        \"ypa\",\n",
    "        \"rush_attempts\",\n",
    "        \"rush_att_per_game\",\n",
    "        \"rush_yds_per_game\",\n",
    "    ]\n",
    "    available_display_columns = [\n",
    "        column for column in display_columns if column in qb_metrics.columns\n",
    "    ]\n",
    "    qb_view = qb_metrics.loc[:, available_display_columns].copy()\n",
    "    metric_display_columns = [\n",
    "        column\n",
    "        for column in [\n",
    "            \"adot\",\n",
    "            \"ypa\",\n",
    "            \"pass_attempts_per_game\",\n",
    "            \"rush_att_per_game\",\n",
    "            \"rush_yds_per_game\",\n",
    "        ]\n",
    "        if column in qb_view.columns\n",
    "    ]\n",
    "    if metric_display_columns:\n",
    "        qb_view[metric_display_columns] = qb_view[metric_display_columns].round(2)\n",
    "    qb_view.sort_values(\n",
    "        [\"season\", \"adot\"],\n",
    "        ascending=[False, False],\n",
    "        inplace=True,\n",
    "    )\n",
    "    qb_view.head(20)\n"
   ]
  }
 ],
 "metadata": {
  "kernelspec": {
   "display_name": "Python 3",
   "language": "python",
   "name": "python3"
  },
  "language_info": {
   "codemirror_mode": {
    "name": "ipython",
    "version": 3
   },
   "file_extension": ".py",
   "mimetype": "text/x-python",
   "name": "python",
   "nbconvert_exporter": "python",
   "pygments_lexer": "ipython3",
   "version": "3.11"
  }
 },
 "nbformat": 4,
 "nbformat_minor": 5
}
